{
 "cells": [
  {
   "cell_type": "markdown",
   "metadata": {},
   "source": [
    "# Understanding the Data \n",
    "\n",
    "\n"
   ]
  },
  {
   "cell_type": "code",
   "execution_count": 1,
   "metadata": {},
   "outputs": [],
   "source": [
    "# import libaries\n",
    "import numpy as np\n",
    "import pandas as pd\n",
    "import nltk, pprint\n",
    "import matplotlib.pyplot as plt\n",
    "import random\n",
    "\n",
    "# supress warnings\n",
    "import warnings\n",
    "warnings.filterwarnings('ignore')\n",
    "\n",
    "from sklearn.model_selection import train_test_split\n",
    "\n",
    "import sklearn\n",
    "from sklearn.model_selection import GridSearchCV\n",
    "\n",
    "# !pip install sklearn_crfsuite\n",
    "import sklearn_crfsuite\n",
    "from sklearn_crfsuite import metrics\n",
    "from sklearn_crfsuite import scorers"
   ]
  },
  {
   "cell_type": "code",
   "execution_count": 2,
   "metadata": {},
   "outputs": [
    {
     "name": "stderr",
     "output_type": "stream",
     "text": [
      "b'Skipping line 281837: expected 25 fields, saw 34\\n'\n"
     ]
    }
   ],
   "source": [
    "data_features=pd.read_csv('ner.csv',encoding=\"ISO-8859-1\" ,error_bad_lines=False)\n",
    "data=pd.read_csv(\"ner_dataset.csv\",encoding=\"ISO-8859-1\")"
   ]
  },
  {
   "cell_type": "code",
   "execution_count": 3,
   "metadata": {
    "scrolled": true
   },
   "outputs": [
    {
     "name": "stdout",
     "output_type": "stream",
     "text": [
      "<class 'pandas.core.frame.DataFrame'>\n",
      "RangeIndex: 1048575 entries, 0 to 1048574\n",
      "Data columns (total 4 columns):\n",
      "Sentence #    47959 non-null object\n",
      "Word          1048575 non-null object\n",
      "POS           1048575 non-null object\n",
      "Tag           1048575 non-null object\n",
      "dtypes: object(4)\n",
      "memory usage: 32.0+ MB\n"
     ]
    }
   ],
   "source": [
    "data.info()"
   ]
  },
  {
   "cell_type": "code",
   "execution_count": 4,
   "metadata": {},
   "outputs": [
    {
     "name": "stdout",
     "output_type": "stream",
     "text": [
      "<class 'pandas.core.frame.DataFrame'>\n",
      "RangeIndex: 1050795 entries, 0 to 1050794\n",
      "Data columns (total 25 columns):\n",
      "Unnamed: 0         1050795 non-null int64\n",
      "lemma              1050795 non-null object\n",
      "next-lemma         1050795 non-null object\n",
      "next-next-lemma    1050795 non-null object\n",
      "next-next-pos      1050795 non-null object\n",
      "next-next-shape    1050795 non-null object\n",
      "next-next-word     1050795 non-null object\n",
      "next-pos           1050795 non-null object\n",
      "next-shape         1050794 non-null object\n",
      "next-word          1050794 non-null object\n",
      "pos                1050794 non-null object\n",
      "prev-iob           1050794 non-null object\n",
      "prev-lemma         1050794 non-null object\n",
      "prev-pos           1050794 non-null object\n",
      "prev-prev-iob      1050794 non-null object\n",
      "prev-prev-lemma    1050794 non-null object\n",
      "prev-prev-pos      1050794 non-null object\n",
      "prev-prev-shape    1050794 non-null object\n",
      "prev-prev-word     1050794 non-null object\n",
      "prev-shape         1050794 non-null object\n",
      "prev-word          1050794 non-null object\n",
      "sentence_idx       1050794 non-null float64\n",
      "shape              1050794 non-null object\n",
      "word               1050794 non-null object\n",
      "tag                1050794 non-null object\n",
      "dtypes: float64(1), int64(1), object(23)\n",
      "memory usage: 200.4+ MB\n"
     ]
    }
   ],
   "source": [
    "data_features.info()"
   ]
  },
  {
   "cell_type": "code",
   "execution_count": 5,
   "metadata": {},
   "outputs": [
    {
     "data": {
      "text/html": [
       "<div>\n",
       "<style scoped>\n",
       "    .dataframe tbody tr th:only-of-type {\n",
       "        vertical-align: middle;\n",
       "    }\n",
       "\n",
       "    .dataframe tbody tr th {\n",
       "        vertical-align: top;\n",
       "    }\n",
       "\n",
       "    .dataframe thead th {\n",
       "        text-align: right;\n",
       "    }\n",
       "</style>\n",
       "<table border=\"1\" class=\"dataframe\">\n",
       "  <thead>\n",
       "    <tr style=\"text-align: right;\">\n",
       "      <th></th>\n",
       "      <th>Sentence #</th>\n",
       "      <th>Word</th>\n",
       "      <th>POS</th>\n",
       "      <th>Tag</th>\n",
       "    </tr>\n",
       "  </thead>\n",
       "  <tbody>\n",
       "    <tr>\n",
       "      <th>0</th>\n",
       "      <td>Sentence: 1</td>\n",
       "      <td>Thousands</td>\n",
       "      <td>NNS</td>\n",
       "      <td>O</td>\n",
       "    </tr>\n",
       "    <tr>\n",
       "      <th>1</th>\n",
       "      <td>NaN</td>\n",
       "      <td>of</td>\n",
       "      <td>IN</td>\n",
       "      <td>O</td>\n",
       "    </tr>\n",
       "    <tr>\n",
       "      <th>2</th>\n",
       "      <td>NaN</td>\n",
       "      <td>demonstrators</td>\n",
       "      <td>NNS</td>\n",
       "      <td>O</td>\n",
       "    </tr>\n",
       "    <tr>\n",
       "      <th>3</th>\n",
       "      <td>NaN</td>\n",
       "      <td>have</td>\n",
       "      <td>VBP</td>\n",
       "      <td>O</td>\n",
       "    </tr>\n",
       "    <tr>\n",
       "      <th>4</th>\n",
       "      <td>NaN</td>\n",
       "      <td>marched</td>\n",
       "      <td>VBN</td>\n",
       "      <td>O</td>\n",
       "    </tr>\n",
       "  </tbody>\n",
       "</table>\n",
       "</div>"
      ],
      "text/plain": [
       "    Sentence #           Word  POS Tag\n",
       "0  Sentence: 1      Thousands  NNS   O\n",
       "1          NaN             of   IN   O\n",
       "2          NaN  demonstrators  NNS   O\n",
       "3          NaN           have  VBP   O\n",
       "4          NaN        marched  VBN   O"
      ]
     },
     "execution_count": 5,
     "metadata": {},
     "output_type": "execute_result"
    }
   ],
   "source": [
    "data.head()"
   ]
  },
  {
   "cell_type": "code",
   "execution_count": 6,
   "metadata": {},
   "outputs": [],
   "source": [
    "data.columns=['Sentence', 'Word', 'POS', 'Tag']\n"
   ]
  },
  {
   "cell_type": "code",
   "execution_count": 7,
   "metadata": {},
   "outputs": [],
   "source": [
    "data.Sentence.fillna(method=\"pad\",inplace=True)"
   ]
  },
  {
   "cell_type": "code",
   "execution_count": 8,
   "metadata": {},
   "outputs": [],
   "source": [
    "data.Sentence=data.Sentence.apply(lambda x: x[10:]).astype(int)"
   ]
  },
  {
   "cell_type": "code",
   "execution_count": 9,
   "metadata": {},
   "outputs": [
    {
     "data": {
      "text/plain": [
       "47959"
      ]
     },
     "execution_count": 9,
     "metadata": {},
     "output_type": "execute_result"
    }
   ],
   "source": [
    "data.Sentence.max()"
   ]
  },
  {
   "cell_type": "code",
   "execution_count": 10,
   "metadata": {},
   "outputs": [],
   "source": [
    "# there are 47959 sentences in total"
   ]
  },
  {
   "cell_type": "code",
   "execution_count": 11,
   "metadata": {},
   "outputs": [],
   "source": [
    "def preprocess_data():\n",
    "    dataset=[]\n",
    "    X=[]\n",
    "    y=[]\n",
    "    for index in range(1,data.Sentence.max()+1):\n",
    "        sentence=data[data.Sentence == index]\n",
    "        dataset.append(list(zip(sentence.Word.values,sentence.POS.values,sentence.Tag.values)))\n",
    "        X.append(list(zip(sentence.Word.values,sentence.POS.values)))\n",
    "        y.append(list(sentence.Tag.values))\n",
    "    return dataset,X,y"
   ]
  },
  {
   "cell_type": "code",
   "execution_count": 12,
   "metadata": {},
   "outputs": [],
   "source": [
    "dataset,X,y=preprocess_data()"
   ]
  },
  {
   "cell_type": "code",
   "execution_count": 13,
   "metadata": {},
   "outputs": [
    {
     "data": {
      "text/plain": [
       "([('Thousands', 'NNS'),\n",
       "  ('of', 'IN'),\n",
       "  ('demonstrators', 'NNS'),\n",
       "  ('have', 'VBP'),\n",
       "  ('marched', 'VBN'),\n",
       "  ('through', 'IN'),\n",
       "  ('London', 'NNP'),\n",
       "  ('to', 'TO'),\n",
       "  ('protest', 'VB'),\n",
       "  ('the', 'DT'),\n",
       "  ('war', 'NN'),\n",
       "  ('in', 'IN'),\n",
       "  ('Iraq', 'NNP'),\n",
       "  ('and', 'CC'),\n",
       "  ('demand', 'VB'),\n",
       "  ('the', 'DT'),\n",
       "  ('withdrawal', 'NN'),\n",
       "  ('of', 'IN'),\n",
       "  ('British', 'JJ'),\n",
       "  ('troops', 'NNS'),\n",
       "  ('from', 'IN'),\n",
       "  ('that', 'DT'),\n",
       "  ('country', 'NN'),\n",
       "  ('.', '.')],\n",
       " ['O',\n",
       "  'O',\n",
       "  'O',\n",
       "  'O',\n",
       "  'O',\n",
       "  'O',\n",
       "  'B-geo',\n",
       "  'O',\n",
       "  'O',\n",
       "  'O',\n",
       "  'O',\n",
       "  'O',\n",
       "  'B-geo',\n",
       "  'O',\n",
       "  'O',\n",
       "  'O',\n",
       "  'O',\n",
       "  'O',\n",
       "  'B-gpe',\n",
       "  'O',\n",
       "  'O',\n",
       "  'O',\n",
       "  'O',\n",
       "  'O'])"
      ]
     },
     "execution_count": 13,
     "metadata": {},
     "output_type": "execute_result"
    }
   ],
   "source": [
    "X[0],y[0]\n",
    "# dataset[:20]"
   ]
  },
  {
   "cell_type": "code",
   "execution_count": 14,
   "metadata": {},
   "outputs": [],
   "source": [
    "X_train, X_test, y_train, y_test = train_test_split(X, y, test_size=0.3, random_state=42)"
   ]
  },
  {
   "cell_type": "code",
   "execution_count": 15,
   "metadata": {},
   "outputs": [
    {
     "data": {
      "text/plain": [
       "(33571, 14388)"
      ]
     },
     "execution_count": 15,
     "metadata": {},
     "output_type": "execute_result"
    }
   ],
   "source": [
    "len(X_train),len(X_test)"
   ]
  },
  {
   "cell_type": "code",
   "execution_count": 16,
   "metadata": {},
   "outputs": [],
   "source": [
    "# extracts features for the word at index i in a sentence \n",
    "def word_features(sentence):\n",
    "    features=[]\n",
    "    for i in range(0, len(sentence)):\n",
    "        word,pos=sentence[i]\n",
    "        word_pos=i\n",
    "        # first word\n",
    "        if i==0:\n",
    "            prevword = '<START>'\n",
    "            prevpos = '<START>'\n",
    "        else:\n",
    "            prevword = sentence[i-1][0]\n",
    "            prevpos = sentence[i-1][1]\n",
    "\n",
    "        # last word\n",
    "        if i == len(sentence)-1:\n",
    "            nextword = '<END>'\n",
    "            nextpos = '<END>'\n",
    "        else:\n",
    "            nextword = sentence[i+1][0]\n",
    "            nextpos = sentence[i+1][1]\n",
    "\n",
    "\n",
    "\n",
    "        features.append( {'word':word,\n",
    "                'pos': pos,\n",
    "                'word_pos':word_pos,\n",
    "                'prevword': prevword,\n",
    "                'prevpos': prevpos,  \n",
    "                'nextword': nextword, \n",
    "                'nextpos': nextpos\n",
    "\n",
    "               })\n",
    "        \n",
    "    return features"
   ]
  },
  {
   "cell_type": "code",
   "execution_count": 17,
   "metadata": {},
   "outputs": [
    {
     "data": {
      "text/plain": [
       "[{'word': 'The',\n",
       "  'pos': 'DT',\n",
       "  'word_pos': 0,\n",
       "  'prevword': '<START>',\n",
       "  'prevpos': '<START>',\n",
       "  'nextword': 'price',\n",
       "  'nextpos': 'NN'},\n",
       " {'word': 'price',\n",
       "  'pos': 'NN',\n",
       "  'word_pos': 1,\n",
       "  'prevword': 'The',\n",
       "  'prevpos': 'DT',\n",
       "  'nextword': 'of',\n",
       "  'nextpos': 'IN'},\n",
       " {'word': 'of',\n",
       "  'pos': 'IN',\n",
       "  'word_pos': 2,\n",
       "  'prevword': 'price',\n",
       "  'prevpos': 'NN',\n",
       "  'nextword': 'oil',\n",
       "  'nextpos': 'NN'},\n",
       " {'word': 'oil',\n",
       "  'pos': 'NN',\n",
       "  'word_pos': 3,\n",
       "  'prevword': 'of',\n",
       "  'prevpos': 'IN',\n",
       "  'nextword': 'has',\n",
       "  'nextpos': 'VBZ'},\n",
       " {'word': 'has',\n",
       "  'pos': 'VBZ',\n",
       "  'word_pos': 4,\n",
       "  'prevword': 'oil',\n",
       "  'prevpos': 'NN',\n",
       "  'nextword': 'nearly',\n",
       "  'nextpos': 'RB'},\n",
       " {'word': 'nearly',\n",
       "  'pos': 'RB',\n",
       "  'word_pos': 5,\n",
       "  'prevword': 'has',\n",
       "  'prevpos': 'VBZ',\n",
       "  'nextword': 'doubled',\n",
       "  'nextpos': 'VBN'},\n",
       " {'word': 'doubled',\n",
       "  'pos': 'VBN',\n",
       "  'word_pos': 6,\n",
       "  'prevword': 'nearly',\n",
       "  'prevpos': 'RB',\n",
       "  'nextword': 'over',\n",
       "  'nextpos': 'IN'},\n",
       " {'word': 'over',\n",
       "  'pos': 'IN',\n",
       "  'word_pos': 7,\n",
       "  'prevword': 'doubled',\n",
       "  'prevpos': 'VBN',\n",
       "  'nextword': 'the',\n",
       "  'nextpos': 'DT'},\n",
       " {'word': 'the',\n",
       "  'pos': 'DT',\n",
       "  'word_pos': 8,\n",
       "  'prevword': 'over',\n",
       "  'prevpos': 'IN',\n",
       "  'nextword': 'past',\n",
       "  'nextpos': 'JJ'},\n",
       " {'word': 'past',\n",
       "  'pos': 'JJ',\n",
       "  'word_pos': 9,\n",
       "  'prevword': 'the',\n",
       "  'prevpos': 'DT',\n",
       "  'nextword': 'year',\n",
       "  'nextpos': 'NN'},\n",
       " {'word': 'year',\n",
       "  'pos': 'NN',\n",
       "  'word_pos': 10,\n",
       "  'prevword': 'past',\n",
       "  'prevpos': 'JJ',\n",
       "  'nextword': '.',\n",
       "  'nextpos': '.'},\n",
       " {'word': '.',\n",
       "  'pos': '.',\n",
       "  'word_pos': 11,\n",
       "  'prevword': 'year',\n",
       "  'prevpos': 'NN',\n",
       "  'nextword': '<END>',\n",
       "  'nextpos': '<END>'}]"
      ]
     },
     "execution_count": 17,
     "metadata": {},
     "output_type": "execute_result"
    }
   ],
   "source": [
    "X_train_features=[word_features(sen) for sen in X_train]\n",
    "X_test_features=[word_features(sen) for sen in X_test]\n",
    "X_train_features[0]"
   ]
  },
  {
   "cell_type": "code",
   "execution_count": 18,
   "metadata": {},
   "outputs": [
    {
     "data": {
      "text/plain": [
       "CRF(algorithm='lbfgs', all_possible_states=None, all_possible_transitions=True,\n",
       "    averaging=None, c=None, c1=0.01, c2=0.1, calibration_candidates=None,\n",
       "    calibration_eta=None, calibration_max_trials=None, calibration_rate=None,\n",
       "    calibration_samples=None, delta=None, epsilon=None, error_sensitive=None,\n",
       "    gamma=None, keep_tempfiles=None, linesearch=None, max_iterations=100,\n",
       "    max_linesearch=None, min_freq=None, model_filename=None, num_memories=None,\n",
       "    pa_type=None, period=None, trainer_cls=None, variance=None, verbose=False)"
      ]
     },
     "execution_count": 18,
     "metadata": {},
     "output_type": "execute_result"
    }
   ],
   "source": [
    "#  fitting crf with arbitrary hyperparameters\n",
    "crf = sklearn_crfsuite.CRF(\n",
    "    algorithm='lbfgs',\n",
    "    c1=0.01,\n",
    "    c2=0.1,\n",
    "    max_iterations=100,\n",
    "    all_possible_transitions=True\n",
    ")\n",
    "crf.fit(X_train_features, y_train)"
   ]
  },
  {
   "cell_type": "code",
   "execution_count": 19,
   "metadata": {},
   "outputs": [
    {
     "data": {
      "text/plain": [
       "['B-tim',\n",
       " 'B-org',\n",
       " 'I-org',\n",
       " 'B-geo',\n",
       " 'B-per',\n",
       " 'I-per',\n",
       " 'B-gpe',\n",
       " 'I-tim',\n",
       " 'I-geo',\n",
       " 'I-gpe',\n",
       " 'B-eve',\n",
       " 'B-art',\n",
       " 'I-art',\n",
       " 'B-nat',\n",
       " 'I-nat',\n",
       " 'I-eve']"
      ]
     },
     "execution_count": 19,
     "metadata": {},
     "output_type": "execute_result"
    }
   ],
   "source": [
    "# remove 'O' from the labels\n",
    "#  This is because we'll only measure the metrics for other less frequent classes.\n",
    "labels = list(crf.classes_)\n",
    "labels.remove('O')\n",
    "labels"
   ]
  },
  {
   "cell_type": "code",
   "execution_count": 20,
   "metadata": {},
   "outputs": [
    {
     "name": "stdout",
     "output_type": "stream",
     "text": [
      "train  : \n",
      "              precision    recall  f1-score   support\n",
      "\n",
      "       B-tim      0.968     0.923     0.945     14224\n",
      "       B-org      0.920     0.868     0.893     14247\n",
      "       I-org      0.945     0.943     0.944     11796\n",
      "       B-geo      0.916     0.954     0.934     26156\n",
      "       B-per      0.958     0.936     0.947     11849\n",
      "       I-per      0.941     0.967     0.954     12050\n",
      "       B-gpe      0.983     0.948     0.965     11083\n",
      "       I-tim      0.938     0.897     0.917      4497\n",
      "       I-geo      0.912     0.926     0.919      5178\n",
      "       I-gpe      0.947     0.667     0.783       135\n",
      "       B-eve      0.863     0.752     0.804       218\n",
      "       B-art      0.966     0.722     0.826       277\n",
      "       I-art      0.951     0.836     0.889       207\n",
      "       B-nat      0.886     0.614     0.726       127\n",
      "       I-nat      0.885     0.742     0.807        31\n",
      "       I-eve      0.839     0.747     0.790       174\n",
      "\n",
      "   micro avg      0.940     0.931     0.935    112249\n",
      "   macro avg      0.926     0.840     0.878    112249\n",
      "weighted avg      0.940     0.931     0.935    112249\n",
      "\n",
      "test  : \n",
      "              precision    recall  f1-score   support\n",
      "\n",
      "       B-tim      0.930     0.867     0.898      6109\n",
      "       B-org      0.789     0.735     0.761      5896\n",
      "       I-org      0.811     0.804     0.807      4988\n",
      "       B-geo      0.857     0.906     0.881     11488\n",
      "       B-per      0.854     0.820     0.837      5141\n",
      "       I-per      0.851     0.905     0.877      5201\n",
      "       B-gpe      0.972     0.921     0.946      4787\n",
      "       I-tim      0.830     0.741     0.783      2031\n",
      "       I-geo      0.823     0.803     0.813      2236\n",
      "       I-gpe      0.814     0.556     0.660        63\n",
      "       B-eve      0.474     0.300     0.367        90\n",
      "       B-art      0.452     0.112     0.179       125\n",
      "       I-art      0.133     0.022     0.038        90\n",
      "       B-nat      0.679     0.257     0.373        74\n",
      "       I-nat      0.429     0.150     0.222        20\n",
      "       I-eve      0.333     0.228     0.271        79\n",
      "\n",
      "   micro avg      0.859     0.843     0.851     48418\n",
      "   macro avg      0.689     0.570     0.607     48418\n",
      "weighted avg      0.856     0.843     0.848     48418\n",
      "\n"
     ]
    }
   ],
   "source": [
    "# make predictions \n",
    "y_pred = crf.predict(X_train_features)\n",
    "print(\"train  : \")\n",
    "# print(metrics.flat_f1_score(y_train, y_pred,\n",
    "#                       average='weighted', labels=labels))\n",
    "print(metrics.flat_classification_report(\n",
    "    y_train, y_pred, labels=labels, digits=3\n",
    "))\n",
    "print(\"test  : \")\n",
    "y_pred = crf.predict(X_test_features)\n",
    "# print(metrics.flat_f1_score(y_test, y_pred,\n",
    "#                       average='weighted', labels=labels))\n",
    "print(metrics.flat_classification_report(\n",
    "    y_test, y_pred, labels=labels, digits=3\n",
    "))"
   ]
  },
  {
   "cell_type": "code",
   "execution_count": 21,
   "metadata": {},
   "outputs": [],
   "source": [
    "# hyperparameter tuning\n",
    "\n",
    "# define fixed parameters and parameters to search\n",
    "crf = sklearn_crfsuite.CRF(\n",
    "    algorithm='lbfgs',\n",
    "    max_iterations=100,\n",
    "    all_possible_transitions=True\n",
    ")\n",
    "\n",
    "# parameters to tune\n",
    "params_space = {\n",
    "    'c1': [0.01, 0.1, 1],\n",
    "    'c2': [0.01, 0.1, 1]\n",
    "}\n",
    "\n",
    "# use the same metric for evaluation\n",
    "f1_scorer = scorers.make_scorer(metrics.flat_f1_score,\n",
    "                        average='weighted', labels=labels)"
   ]
  },
  {
   "cell_type": "code",
   "execution_count": 22,
   "metadata": {},
   "outputs": [
    {
     "name": "stdout",
     "output_type": "stream",
     "text": [
      "Fitting 3 folds for each of 9 candidates, totalling 27 fits\n"
     ]
    },
    {
     "name": "stderr",
     "output_type": "stream",
     "text": [
      "[Parallel(n_jobs=-1)]: Using backend LokyBackend with 4 concurrent workers.\n",
      "[Parallel(n_jobs=-1)]: Done  27 out of  27 | elapsed: 35.4min finished\n"
     ]
    },
    {
     "data": {
      "text/plain": [
       "GridSearchCV(cv=3, error_score=nan,\n",
       "             estimator=CRF(algorithm='lbfgs', all_possible_states=None,\n",
       "                           all_possible_transitions=True, averaging=None,\n",
       "                           c=None, c1=None, c2=None,\n",
       "                           calibration_candidates=None, calibration_eta=None,\n",
       "                           calibration_max_trials=None, calibration_rate=None,\n",
       "                           calibration_samples=None, delta=None, epsilon=None,\n",
       "                           error_sensitive=None, gamma=None,\n",
       "                           keep_tempfi...\n",
       "                           trainer_cls=None, variance=None, verbose=False),\n",
       "             iid='deprecated', n_jobs=-1,\n",
       "             param_grid={'c1': [0.01, 0.1, 1], 'c2': [0.01, 0.1, 1]},\n",
       "             pre_dispatch='2*n_jobs', refit=True, return_train_score=True,\n",
       "             scoring=make_scorer(flat_f1_score, average=weighted, labels=['B-tim', 'B-org', 'I-org', 'B-geo', 'B-per', 'I-per', 'B-gpe', 'I-tim', 'I-geo', 'I-gpe', 'B-eve', 'B-art', 'I-art', 'B-nat', 'I-nat', 'I-eve']),\n",
       "             verbose=1)"
      ]
     },
     "execution_count": 22,
     "metadata": {},
     "output_type": "execute_result"
    }
   ],
   "source": [
    "# instantiate a GridSearchCV object\n",
    "rs = GridSearchCV(crf, \n",
    "                  params_space,\n",
    "                  cv=3,\n",
    "                  verbose=1,\n",
    "                  n_jobs=-1,\n",
    "                  scoring=f1_scorer, \n",
    "                  return_train_score=True)\n",
    "# fit\n",
    "rs.fit(X_train_features, y_train)"
   ]
  },
  {
   "cell_type": "code",
   "execution_count": 23,
   "metadata": {},
   "outputs": [
    {
     "data": {
      "text/html": [
       "<div>\n",
       "<style scoped>\n",
       "    .dataframe tbody tr th:only-of-type {\n",
       "        vertical-align: middle;\n",
       "    }\n",
       "\n",
       "    .dataframe tbody tr th {\n",
       "        vertical-align: top;\n",
       "    }\n",
       "\n",
       "    .dataframe thead th {\n",
       "        text-align: right;\n",
       "    }\n",
       "</style>\n",
       "<table border=\"1\" class=\"dataframe\">\n",
       "  <thead>\n",
       "    <tr style=\"text-align: right;\">\n",
       "      <th></th>\n",
       "      <th>mean_fit_time</th>\n",
       "      <th>std_fit_time</th>\n",
       "      <th>mean_score_time</th>\n",
       "      <th>std_score_time</th>\n",
       "      <th>param_c1</th>\n",
       "      <th>param_c2</th>\n",
       "      <th>params</th>\n",
       "      <th>split0_test_score</th>\n",
       "      <th>split1_test_score</th>\n",
       "      <th>split2_test_score</th>\n",
       "      <th>mean_test_score</th>\n",
       "      <th>std_test_score</th>\n",
       "      <th>rank_test_score</th>\n",
       "      <th>split0_train_score</th>\n",
       "      <th>split1_train_score</th>\n",
       "      <th>split2_train_score</th>\n",
       "      <th>mean_train_score</th>\n",
       "      <th>std_train_score</th>\n",
       "    </tr>\n",
       "  </thead>\n",
       "  <tbody>\n",
       "    <tr>\n",
       "      <th>0</th>\n",
       "      <td>205.126506</td>\n",
       "      <td>11.023804</td>\n",
       "      <td>5.492002</td>\n",
       "      <td>0.064191</td>\n",
       "      <td>0.01</td>\n",
       "      <td>0.01</td>\n",
       "      <td>{'c1': 0.01, 'c2': 0.01}</td>\n",
       "      <td>0.832791</td>\n",
       "      <td>0.835960</td>\n",
       "      <td>0.830906</td>\n",
       "      <td>0.833219</td>\n",
       "      <td>0.002085</td>\n",
       "      <td>5</td>\n",
       "      <td>0.950367</td>\n",
       "      <td>0.951869</td>\n",
       "      <td>0.952889</td>\n",
       "      <td>0.951708</td>\n",
       "      <td>0.001036</td>\n",
       "    </tr>\n",
       "    <tr>\n",
       "      <th>1</th>\n",
       "      <td>214.131017</td>\n",
       "      <td>6.854912</td>\n",
       "      <td>6.234002</td>\n",
       "      <td>1.181869</td>\n",
       "      <td>0.01</td>\n",
       "      <td>0.1</td>\n",
       "      <td>{'c1': 0.01, 'c2': 0.1}</td>\n",
       "      <td>0.839287</td>\n",
       "      <td>0.841692</td>\n",
       "      <td>0.839372</td>\n",
       "      <td>0.840117</td>\n",
       "      <td>0.001114</td>\n",
       "      <td>2</td>\n",
       "      <td>0.942061</td>\n",
       "      <td>0.939559</td>\n",
       "      <td>0.940113</td>\n",
       "      <td>0.940578</td>\n",
       "      <td>0.001073</td>\n",
       "    </tr>\n",
       "    <tr>\n",
       "      <th>2</th>\n",
       "      <td>266.842001</td>\n",
       "      <td>27.772338</td>\n",
       "      <td>8.383666</td>\n",
       "      <td>1.193904</td>\n",
       "      <td>0.01</td>\n",
       "      <td>1</td>\n",
       "      <td>{'c1': 0.01, 'c2': 1}</td>\n",
       "      <td>0.827796</td>\n",
       "      <td>0.832280</td>\n",
       "      <td>0.824553</td>\n",
       "      <td>0.828210</td>\n",
       "      <td>0.003168</td>\n",
       "      <td>7</td>\n",
       "      <td>0.881836</td>\n",
       "      <td>0.877324</td>\n",
       "      <td>0.880013</td>\n",
       "      <td>0.879724</td>\n",
       "      <td>0.001854</td>\n",
       "    </tr>\n",
       "    <tr>\n",
       "      <th>3</th>\n",
       "      <td>318.880337</td>\n",
       "      <td>24.992727</td>\n",
       "      <td>6.987665</td>\n",
       "      <td>0.696614</td>\n",
       "      <td>0.1</td>\n",
       "      <td>0.01</td>\n",
       "      <td>{'c1': 0.1, 'c2': 0.01}</td>\n",
       "      <td>0.837140</td>\n",
       "      <td>0.840152</td>\n",
       "      <td>0.837361</td>\n",
       "      <td>0.838218</td>\n",
       "      <td>0.001371</td>\n",
       "      <td>3</td>\n",
       "      <td>0.949872</td>\n",
       "      <td>0.947776</td>\n",
       "      <td>0.948142</td>\n",
       "      <td>0.948597</td>\n",
       "      <td>0.000914</td>\n",
       "    </tr>\n",
       "    <tr>\n",
       "      <th>4</th>\n",
       "      <td>224.509330</td>\n",
       "      <td>14.575797</td>\n",
       "      <td>6.295670</td>\n",
       "      <td>0.840501</td>\n",
       "      <td>0.1</td>\n",
       "      <td>0.1</td>\n",
       "      <td>{'c1': 0.1, 'c2': 0.1}</td>\n",
       "      <td>0.839524</td>\n",
       "      <td>0.842287</td>\n",
       "      <td>0.839345</td>\n",
       "      <td>0.840385</td>\n",
       "      <td>0.001347</td>\n",
       "      <td>1</td>\n",
       "      <td>0.938383</td>\n",
       "      <td>0.936229</td>\n",
       "      <td>0.936791</td>\n",
       "      <td>0.937134</td>\n",
       "      <td>0.000912</td>\n",
       "    </tr>\n",
       "    <tr>\n",
       "      <th>5</th>\n",
       "      <td>227.505649</td>\n",
       "      <td>2.021429</td>\n",
       "      <td>7.166668</td>\n",
       "      <td>1.621771</td>\n",
       "      <td>0.1</td>\n",
       "      <td>1</td>\n",
       "      <td>{'c1': 0.1, 'c2': 1}</td>\n",
       "      <td>0.826967</td>\n",
       "      <td>0.830926</td>\n",
       "      <td>0.823649</td>\n",
       "      <td>0.827180</td>\n",
       "      <td>0.002975</td>\n",
       "      <td>8</td>\n",
       "      <td>0.875463</td>\n",
       "      <td>0.873063</td>\n",
       "      <td>0.874631</td>\n",
       "      <td>0.874385</td>\n",
       "      <td>0.000995</td>\n",
       "    </tr>\n",
       "    <tr>\n",
       "      <th>6</th>\n",
       "      <td>229.349335</td>\n",
       "      <td>3.258423</td>\n",
       "      <td>5.480002</td>\n",
       "      <td>0.185939</td>\n",
       "      <td>1</td>\n",
       "      <td>0.01</td>\n",
       "      <td>{'c1': 1, 'c2': 0.01}</td>\n",
       "      <td>0.831840</td>\n",
       "      <td>0.840347</td>\n",
       "      <td>0.832166</td>\n",
       "      <td>0.834784</td>\n",
       "      <td>0.003936</td>\n",
       "      <td>4</td>\n",
       "      <td>0.873904</td>\n",
       "      <td>0.873331</td>\n",
       "      <td>0.872819</td>\n",
       "      <td>0.873351</td>\n",
       "      <td>0.000443</td>\n",
       "    </tr>\n",
       "    <tr>\n",
       "      <th>7</th>\n",
       "      <td>206.296664</td>\n",
       "      <td>4.300135</td>\n",
       "      <td>5.200665</td>\n",
       "      <td>0.738015</td>\n",
       "      <td>1</td>\n",
       "      <td>0.1</td>\n",
       "      <td>{'c1': 1, 'c2': 0.1}</td>\n",
       "      <td>0.831417</td>\n",
       "      <td>0.837533</td>\n",
       "      <td>0.830624</td>\n",
       "      <td>0.833191</td>\n",
       "      <td>0.003087</td>\n",
       "      <td>6</td>\n",
       "      <td>0.867803</td>\n",
       "      <td>0.866468</td>\n",
       "      <td>0.866752</td>\n",
       "      <td>0.867008</td>\n",
       "      <td>0.000574</td>\n",
       "    </tr>\n",
       "    <tr>\n",
       "      <th>8</th>\n",
       "      <td>166.449002</td>\n",
       "      <td>22.228568</td>\n",
       "      <td>3.564668</td>\n",
       "      <td>0.585834</td>\n",
       "      <td>1</td>\n",
       "      <td>1</td>\n",
       "      <td>{'c1': 1, 'c2': 1}</td>\n",
       "      <td>0.817229</td>\n",
       "      <td>0.823722</td>\n",
       "      <td>0.815745</td>\n",
       "      <td>0.818899</td>\n",
       "      <td>0.003464</td>\n",
       "      <td>9</td>\n",
       "      <td>0.840285</td>\n",
       "      <td>0.836782</td>\n",
       "      <td>0.840217</td>\n",
       "      <td>0.839094</td>\n",
       "      <td>0.001636</td>\n",
       "    </tr>\n",
       "  </tbody>\n",
       "</table>\n",
       "</div>"
      ],
      "text/plain": [
       "   mean_fit_time  std_fit_time  mean_score_time  std_score_time param_c1  \\\n",
       "0     205.126506     11.023804         5.492002        0.064191     0.01   \n",
       "1     214.131017      6.854912         6.234002        1.181869     0.01   \n",
       "2     266.842001     27.772338         8.383666        1.193904     0.01   \n",
       "3     318.880337     24.992727         6.987665        0.696614      0.1   \n",
       "4     224.509330     14.575797         6.295670        0.840501      0.1   \n",
       "5     227.505649      2.021429         7.166668        1.621771      0.1   \n",
       "6     229.349335      3.258423         5.480002        0.185939        1   \n",
       "7     206.296664      4.300135         5.200665        0.738015        1   \n",
       "8     166.449002     22.228568         3.564668        0.585834        1   \n",
       "\n",
       "  param_c2                    params  split0_test_score  split1_test_score  \\\n",
       "0     0.01  {'c1': 0.01, 'c2': 0.01}           0.832791           0.835960   \n",
       "1      0.1   {'c1': 0.01, 'c2': 0.1}           0.839287           0.841692   \n",
       "2        1     {'c1': 0.01, 'c2': 1}           0.827796           0.832280   \n",
       "3     0.01   {'c1': 0.1, 'c2': 0.01}           0.837140           0.840152   \n",
       "4      0.1    {'c1': 0.1, 'c2': 0.1}           0.839524           0.842287   \n",
       "5        1      {'c1': 0.1, 'c2': 1}           0.826967           0.830926   \n",
       "6     0.01     {'c1': 1, 'c2': 0.01}           0.831840           0.840347   \n",
       "7      0.1      {'c1': 1, 'c2': 0.1}           0.831417           0.837533   \n",
       "8        1        {'c1': 1, 'c2': 1}           0.817229           0.823722   \n",
       "\n",
       "   split2_test_score  mean_test_score  std_test_score  rank_test_score  \\\n",
       "0           0.830906         0.833219        0.002085                5   \n",
       "1           0.839372         0.840117        0.001114                2   \n",
       "2           0.824553         0.828210        0.003168                7   \n",
       "3           0.837361         0.838218        0.001371                3   \n",
       "4           0.839345         0.840385        0.001347                1   \n",
       "5           0.823649         0.827180        0.002975                8   \n",
       "6           0.832166         0.834784        0.003936                4   \n",
       "7           0.830624         0.833191        0.003087                6   \n",
       "8           0.815745         0.818899        0.003464                9   \n",
       "\n",
       "   split0_train_score  split1_train_score  split2_train_score  \\\n",
       "0            0.950367            0.951869            0.952889   \n",
       "1            0.942061            0.939559            0.940113   \n",
       "2            0.881836            0.877324            0.880013   \n",
       "3            0.949872            0.947776            0.948142   \n",
       "4            0.938383            0.936229            0.936791   \n",
       "5            0.875463            0.873063            0.874631   \n",
       "6            0.873904            0.873331            0.872819   \n",
       "7            0.867803            0.866468            0.866752   \n",
       "8            0.840285            0.836782            0.840217   \n",
       "\n",
       "   mean_train_score  std_train_score  \n",
       "0          0.951708         0.001036  \n",
       "1          0.940578         0.001073  \n",
       "2          0.879724         0.001854  \n",
       "3          0.948597         0.000914  \n",
       "4          0.937134         0.000912  \n",
       "5          0.874385         0.000995  \n",
       "6          0.873351         0.000443  \n",
       "7          0.867008         0.000574  \n",
       "8          0.839094         0.001636  "
      ]
     },
     "execution_count": 23,
     "metadata": {},
     "output_type": "execute_result"
    }
   ],
   "source": [
    "# store CV results in a DF\n",
    "cv_results = pd.DataFrame(rs.cv_results_)\n",
    "cv_results"
   ]
  },
  {
   "cell_type": "code",
   "execution_count": 24,
   "metadata": {},
   "outputs": [
    {
     "data": {
      "image/png": "[encoded data removed]",
      "text/plain": [
       "<Figure size 1152x432 with 3 Axes>"
      ]
     },
     "metadata": {},
     "output_type": "display_data"
    }
   ],
   "source": [
    "# plotting CV results\n",
    "# for each value of c2, make a plot of c1 versus train and test f1-score\n",
    "\n",
    "plt.figure(figsize=(16,6))\n",
    "\n",
    "for i, val in enumerate(params_space['c2']):\n",
    "   \n",
    "    # subplot 1/3/i\n",
    "    plt.subplot(1, 3, i+1)\n",
    "    c2_subset = cv_results[cv_results['param_c2']==val]\n",
    "\n",
    "    plt.plot(c2_subset[\"param_c1\"], c2_subset[\"mean_test_score\"])\n",
    "    plt.plot(c2_subset[\"param_c1\"], c2_subset[\"mean_train_score\"])\n",
    "    plt.xlabel('c1')\n",
    "    plt.ylabel('Mean F-score')\n",
    "    plt.title(\"c2={0}\".format(val))\n",
    "    plt.ylim([0.80, 1])\n",
    "    plt.legend(['test score', 'train score'], loc='upper left')\n",
    "    plt.xscale('log')"
   ]
  },
  {
   "cell_type": "code",
   "execution_count": 25,
   "metadata": {},
   "outputs": [
    {
     "data": {
      "text/plain": [
       "CRF(algorithm='lbfgs', all_possible_states=None, all_possible_transitions=True,\n",
       "    averaging=None, c=None, c1=0.1, c2=0.1, calibration_candidates=None,\n",
       "    calibration_eta=None, calibration_max_trials=None, calibration_rate=None,\n",
       "    calibration_samples=None, delta=None, epsilon=None, error_sensitive=None,\n",
       "    gamma=None, keep_tempfiles=None, linesearch=None, max_iterations=100,\n",
       "    max_linesearch=None, min_freq=None, model_filename=None, num_memories=None,\n",
       "    pa_type=None, period=None, trainer_cls=None, variance=None, verbose=False)"
      ]
     },
     "execution_count": 25,
     "metadata": {},
     "output_type": "execute_result"
    }
   ],
   "source": [
    "# building a model with optimal hyperparams\n",
    "crf = sklearn_crfsuite.CRF(\n",
    "    algorithm='lbfgs',\n",
    "    c1=0.1,\n",
    "    c2=0.1,\n",
    "    max_iterations=100,\n",
    "    all_possible_transitions=True\n",
    ")\n",
    "crf.fit(X_train_features, y_train)"
   ]
  },
  {
   "cell_type": "code",
   "execution_count": 26,
   "metadata": {},
   "outputs": [
    {
     "name": "stdout",
     "output_type": "stream",
     "text": [
      "              precision    recall  f1-score   support\n",
      "\n",
      "       B-tim      0.934     0.868     0.900      6109\n",
      "       B-org      0.793     0.735     0.763      5896\n",
      "       I-org      0.817     0.800     0.808      4988\n",
      "       B-geo      0.856     0.907     0.881     11488\n",
      "       B-per      0.853     0.825     0.839      5141\n",
      "       I-per      0.852     0.906     0.878      5201\n",
      "       B-gpe      0.975     0.921     0.948      4787\n",
      "       I-tim      0.838     0.736     0.783      2031\n",
      "       I-geo      0.832     0.798     0.815      2236\n",
      "       I-gpe      0.868     0.524     0.653        63\n",
      "       B-eve      0.500     0.300     0.375        90\n",
      "       B-art      0.406     0.104     0.166       125\n",
      "       I-art      0.074     0.022     0.034        90\n",
      "       B-nat      0.667     0.243     0.356        74\n",
      "       I-nat      0.333     0.100     0.154        20\n",
      "       I-eve      0.383     0.228     0.286        79\n",
      "\n",
      "   micro avg      0.861     0.843     0.852     48418\n",
      "   macro avg      0.686     0.564     0.602     48418\n",
      "weighted avg      0.859     0.843     0.849     48418\n",
      "\n"
     ]
    }
   ],
   "source": [
    "# make predictions \n",
    "y_pred = crf.predict(X_test_features)\n",
    "print(metrics.flat_classification_report(\n",
    "    y_test, y_pred, labels=labels, digits=3\n",
    "))"
   ]
  },
  {
   "cell_type": "code",
   "execution_count": null,
   "metadata": {},
   "outputs": [],
   "source": []
  }
 ],
 "metadata": {
  "kernelspec": {
   "display_name": "Python 3",
   "language": "python",
   "name": "python3"
  },
  "language_info": {
   "codemirror_mode": {
    "name": "ipython",
    "version": 3
   },
   "file_extension": ".py",
   "mimetype": "text/x-python",
   "name": "python",
   "nbconvert_exporter": "python",
   "pygments_lexer": "ipython3",
   "version": "3.6.5"
  }
 },
 "nbformat": 4,
 "nbformat_minor": 2
}
