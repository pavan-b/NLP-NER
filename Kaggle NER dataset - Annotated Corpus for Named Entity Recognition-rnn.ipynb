{
 "cells": [
  {
   "cell_type": "markdown",
   "metadata": {},
   "source": [
    "# Understanding the Data \n",
    "\n",
    "\n"
   ]
  },
  {
   "cell_type": "code",
   "execution_count": 1,
   "metadata": {},
   "outputs": [],
   "source": [
    "# import libaries\n",
    "import numpy as np\n",
    "import pandas as pd\n",
    "import nltk, pprint\n",
    "import matplotlib.pyplot as plt\n",
    "import random\n",
    "import itertools\n",
    "\n",
    "# supress warnings\n",
    "import warnings\n",
    "warnings.filterwarnings('ignore')\n",
    "\n",
    "from sklearn.model_selection import train_test_split\n",
    "from sklearn.metrics import classification_report,multilabel_confusion_matrix\n",
    "from sklearn.utils import class_weight\n",
    "\n",
    "\n",
    "\n",
    "import tensorflow as tf\n",
    "\n",
    "from tensorflow.keras.preprocessing.text import Tokenizer\n",
    "from tensorflow.keras.preprocessing.sequence import pad_sequences\n",
    "from tensorflow.keras.utils import to_categorical\n",
    "from tensorflow.keras.models import Sequential\n",
    "from tensorflow.keras.layers import Embedding,SimpleRNN\n",
    "from tensorflow.keras.layers import Dense, Input\n",
    "from tensorflow.keras.layers import TimeDistributed\n",
    "\n",
    "\n"
   ]
  },
  {
   "cell_type": "code",
   "execution_count": 2,
   "metadata": {},
   "outputs": [
    {
     "name": "stderr",
     "output_type": "stream",
     "text": [
      "b'Skipping line 281837: expected 25 fields, saw 34\\n'\n"
     ]
    }
   ],
   "source": [
    "# data_features=pd.read_csv('ner.csv',encoding=\"ISO-8859-1\" ,error_bad_lines=False)\n",
    "data=pd.read_csv(\"ner_dataset.csv\",encoding=\"ISO-8859-1\")"
   ]
  },
  {
   "cell_type": "code",
   "execution_count": 3,
   "metadata": {
    "scrolled": true
   },
   "outputs": [
    {
     "name": "stdout",
     "output_type": "stream",
     "text": [
      "<class 'pandas.core.frame.DataFrame'>\n",
      "RangeIndex: 1048575 entries, 0 to 1048574\n",
      "Data columns (total 4 columns):\n",
      "Sentence #    47959 non-null object\n",
      "Word          1048575 non-null object\n",
      "POS           1048575 non-null object\n",
      "Tag           1048575 non-null object\n",
      "dtypes: object(4)\n",
      "memory usage: 32.0+ MB\n"
     ]
    }
   ],
   "source": [
    "data.info()"
   ]
  },
  {
   "cell_type": "code",
   "execution_count": 4,
   "metadata": {},
   "outputs": [
    {
     "name": "stdout",
     "output_type": "stream",
     "text": [
      "<class 'pandas.core.frame.DataFrame'>\n",
      "RangeIndex: 1050795 entries, 0 to 1050794\n",
      "Data columns (total 25 columns):\n",
      "Unnamed: 0         1050795 non-null int64\n",
      "lemma              1050795 non-null object\n",
      "next-lemma         1050795 non-null object\n",
      "next-next-lemma    1050795 non-null object\n",
      "next-next-pos      1050795 non-null object\n",
      "next-next-shape    1050795 non-null object\n",
      "next-next-word     1050795 non-null object\n",
      "next-pos           1050795 non-null object\n",
      "next-shape         1050794 non-null object\n",
      "next-word          1050794 non-null object\n",
      "pos                1050794 non-null object\n",
      "prev-iob           1050794 non-null object\n",
      "prev-lemma         1050794 non-null object\n",
      "prev-pos           1050794 non-null object\n",
      "prev-prev-iob      1050794 non-null object\n",
      "prev-prev-lemma    1050794 non-null object\n",
      "prev-prev-pos      1050794 non-null object\n",
      "prev-prev-shape    1050794 non-null object\n",
      "prev-prev-word     1050794 non-null object\n",
      "prev-shape         1050794 non-null object\n",
      "prev-word          1050794 non-null object\n",
      "sentence_idx       1050794 non-null float64\n",
      "shape              1050794 non-null object\n",
      "word               1050794 non-null object\n",
      "tag                1050794 non-null object\n",
      "dtypes: float64(1), int64(1), object(23)\n",
      "memory usage: 200.4+ MB\n"
     ]
    }
   ],
   "source": [
    "# data_features.info()"
   ]
  },
  {
   "cell_type": "code",
   "execution_count": 5,
   "metadata": {},
   "outputs": [
    {
     "data": {
      "text/html": [
       "<div>\n",
       "<style scoped>\n",
       "    .dataframe tbody tr th:only-of-type {\n",
       "        vertical-align: middle;\n",
       "    }\n",
       "\n",
       "    .dataframe tbody tr th {\n",
       "        vertical-align: top;\n",
       "    }\n",
       "\n",
       "    .dataframe thead th {\n",
       "        text-align: right;\n",
       "    }\n",
       "</style>\n",
       "<table border=\"1\" class=\"dataframe\">\n",
       "  <thead>\n",
       "    <tr style=\"text-align: right;\">\n",
       "      <th></th>\n",
       "      <th>Sentence #</th>\n",
       "      <th>Word</th>\n",
       "      <th>POS</th>\n",
       "      <th>Tag</th>\n",
       "    </tr>\n",
       "  </thead>\n",
       "  <tbody>\n",
       "    <tr>\n",
       "      <th>0</th>\n",
       "      <td>Sentence: 1</td>\n",
       "      <td>Thousands</td>\n",
       "      <td>NNS</td>\n",
       "      <td>O</td>\n",
       "    </tr>\n",
       "    <tr>\n",
       "      <th>1</th>\n",
       "      <td>NaN</td>\n",
       "      <td>of</td>\n",
       "      <td>IN</td>\n",
       "      <td>O</td>\n",
       "    </tr>\n",
       "    <tr>\n",
       "      <th>2</th>\n",
       "      <td>NaN</td>\n",
       "      <td>demonstrators</td>\n",
       "      <td>NNS</td>\n",
       "      <td>O</td>\n",
       "    </tr>\n",
       "    <tr>\n",
       "      <th>3</th>\n",
       "      <td>NaN</td>\n",
       "      <td>have</td>\n",
       "      <td>VBP</td>\n",
       "      <td>O</td>\n",
       "    </tr>\n",
       "    <tr>\n",
       "      <th>4</th>\n",
       "      <td>NaN</td>\n",
       "      <td>marched</td>\n",
       "      <td>VBN</td>\n",
       "      <td>O</td>\n",
       "    </tr>\n",
       "  </tbody>\n",
       "</table>\n",
       "</div>"
      ],
      "text/plain": [
       "    Sentence #           Word  POS Tag\n",
       "0  Sentence: 1      Thousands  NNS   O\n",
       "1          NaN             of   IN   O\n",
       "2          NaN  demonstrators  NNS   O\n",
       "3          NaN           have  VBP   O\n",
       "4          NaN        marched  VBN   O"
      ]
     },
     "execution_count": 5,
     "metadata": {},
     "output_type": "execute_result"
    }
   ],
   "source": [
    "data.head()"
   ]
  },
  {
   "cell_type": "code",
   "execution_count": 6,
   "metadata": {},
   "outputs": [],
   "source": [
    "data.columns=['Sentence', 'Word', 'POS', 'Tag']\n"
   ]
  },
  {
   "cell_type": "code",
   "execution_count": 7,
   "metadata": {},
   "outputs": [],
   "source": [
    "data.Sentence.fillna(method=\"pad\",inplace=True)"
   ]
  },
  {
   "cell_type": "code",
   "execution_count": 8,
   "metadata": {},
   "outputs": [],
   "source": [
    "data.Sentence=data.Sentence.apply(lambda x: x[10:]).astype(int)"
   ]
  },
  {
   "cell_type": "code",
   "execution_count": 9,
   "metadata": {},
   "outputs": [
    {
     "data": {
      "text/plain": [
       "47959"
      ]
     },
     "execution_count": 9,
     "metadata": {},
     "output_type": "execute_result"
    }
   ],
   "source": [
    "data.Sentence.max()"
   ]
  },
  {
   "cell_type": "code",
   "execution_count": 10,
   "metadata": {},
   "outputs": [],
   "source": [
    "words=list(set([i for i in data.Word.values ]))\n",
    "tags=list(set([i for i in data.Tag.values ]))\n",
    "word2ind={tag:i for i , tag in enumerate(words)}\n",
    "tag2ind={tag:i for i , tag in enumerate(tags)}\n",
    "\n",
    "ind2word={i:tag for tag, i in word2ind.items()}\n",
    "ind2tag={i:tag for tag, i in tag2ind.items()}"
   ]
  },
  {
   "cell_type": "code",
   "execution_count": 11,
   "metadata": {},
   "outputs": [
    {
     "data": {
      "text/plain": [
       "(35178, 17)"
      ]
     },
     "execution_count": 11,
     "metadata": {},
     "output_type": "execute_result"
    }
   ],
   "source": [
    "len(words),len(tags)\n"
   ]
  },
  {
   "cell_type": "code",
   "execution_count": 12,
   "metadata": {},
   "outputs": [],
   "source": [
    "# there are 47959 sentences in total"
   ]
  },
  {
   "cell_type": "code",
   "execution_count": 13,
   "metadata": {},
   "outputs": [],
   "source": [
    "def preprocess_data():\n",
    "    dataset=[]\n",
    "    X=[]\n",
    "    y=[]\n",
    "    for index in range(1,data.Sentence.max()+1):\n",
    "        sentence=data[data.Sentence == index]\n",
    "        dataset.append(list(zip(sentence.Word.values,sentence.Tag.values)))\n",
    "        X.append(sentence.Word.values.tolist())\n",
    "        y.append(sentence.Tag.tolist())\n",
    "    return dataset,X,y"
   ]
  },
  {
   "cell_type": "code",
   "execution_count": 14,
   "metadata": {},
   "outputs": [],
   "source": [
    "dataset,X,y=preprocess_data()"
   ]
  },
  {
   "cell_type": "code",
   "execution_count": 15,
   "metadata": {
    "scrolled": true
   },
   "outputs": [
    {
     "name": "stdout",
     "output_type": "stream",
     "text": [
      "['Thousands', 'of', 'demonstrators', 'have', 'marched', 'through', 'London', 'to', 'protest', 'the', 'war', 'in', 'Iraq', 'and', 'demand', 'the', 'withdrawal', 'of', 'British', 'troops', 'from', 'that', 'country', '.'] ['O', 'O', 'O', 'O', 'O', 'O', 'B-geo', 'O', 'O', 'O', 'O', 'O', 'B-geo', 'O', 'O', 'O', 'O', 'O', 'B-gpe', 'O', 'O', 'O', 'O', 'O']\n"
     ]
    }
   ],
   "source": [
    "print(X[0],y[0])\n",
    "# dataset[:20]"
   ]
  },
  {
   "cell_type": "code",
   "execution_count": 16,
   "metadata": {},
   "outputs": [
    {
     "name": "stdout",
     "output_type": "stream",
     "text": [
      "max length of a sentence:  104\n"
     ]
    }
   ],
   "source": [
    "max_sec= max([len(sen) for sen in X])\n",
    "print(\"max length of a sentence: \",max_sec)"
   ]
  },
  {
   "cell_type": "code",
   "execution_count": 17,
   "metadata": {},
   "outputs": [],
   "source": [
    "# word_tok=Tokenizer()\n",
    "# word_tok.fit_on_texts(X)\n",
    "# X_encoded=word_tok.texts_to_sequences(X)\n",
    "\n",
    "# # tag_tok=Tokenizer()\n",
    "# # tag_tok.fit_on_texts(y)\n",
    "# # y_encoded=tag_tok.texts_to_sequences(y)\n",
    "\n",
    "X_encoded=[[word2ind[word] for word in sen]for sen in X]\n",
    "y_encoded=[[tag2ind[word] for word in sen]for sen in y]"
   ]
  },
  {
   "cell_type": "code",
   "execution_count": 18,
   "metadata": {},
   "outputs": [
    {
     "name": "stdout",
     "output_type": "stream",
     "text": [
      "['O', 'O', 'O', 'O', 'O', 'O', 'B-geo', 'O', 'O', 'O', 'O', 'O', 'B-geo', 'O', 'O', 'O', 'O', 'O', 'B-gpe', 'O', 'O', 'O', 'O', 'O']\n",
      "[5, 5, 5, 5, 5, 5, 6, 5, 5, 5, 5, 5, 6, 5, 5, 5, 5, 5, 15, 5, 5, 5, 5, 5]\n"
     ]
    }
   ],
   "source": [
    "print(y[0])\n",
    "print(y_encoded[0])"
   ]
  },
  {
   "cell_type": "code",
   "execution_count": 19,
   "metadata": {},
   "outputs": [],
   "source": [
    "# pad sequence"
   ]
  },
  {
   "cell_type": "code",
   "execution_count": 20,
   "metadata": {},
   "outputs": [],
   "source": [
    "X_padded = pad_sequences(X_encoded, maxlen=max_sec, padding=\"post\",value=len(words)-1)\n",
    "y_padded = pad_sequences(y_encoded, maxlen=max_sec, padding=\"post\",value=tag2ind['O'])\n",
    "# # one-hot encoding\n",
    "y_padded=np.array([to_categorical(i, num_classes = len(tags)) for i in y_padded])\n"
   ]
  },
  {
   "cell_type": "code",
   "execution_count": 21,
   "metadata": {},
   "outputs": [
    {
     "name": "stdout",
     "output_type": "stream",
     "text": [
      "X shape (47959, 104) y shape (47959, 104, 17)\n"
     ]
    }
   ],
   "source": [
    "print('X shape', X_padded.shape, 'y shape', y_padded.shape)"
   ]
  },
  {
   "cell_type": "code",
   "execution_count": 22,
   "metadata": {},
   "outputs": [],
   "source": [
    "# X,y=X_padded,y_padded"
   ]
  },
  {
   "cell_type": "code",
   "execution_count": 23,
   "metadata": {},
   "outputs": [],
   "source": [
    "X_train, X_test, y_train, y_test = train_test_split(X_padded, y_padded, test_size=0.3, random_state=42)"
   ]
  },
  {
   "cell_type": "code",
   "execution_count": 24,
   "metadata": {},
   "outputs": [
    {
     "data": {
      "text/plain": [
       "(33571, 14388)"
      ]
     },
     "execution_count": 24,
     "metadata": {},
     "output_type": "execute_result"
    }
   ],
   "source": [
    "len(X_train),len(X_test)"
   ]
  },
  {
   "cell_type": "code",
   "execution_count": 25,
   "metadata": {},
   "outputs": [],
   "source": [
    "# rnn\n",
    "VOCABULARY_SIZE = len(word2ind.values()) + 1\n",
    "EMBEDDING_VECTOR_LENGTH =64\n",
    "OUTPUT_SIZE=len(tags)\n",
    "MAX_SEQ_LENGTH=max_sec\n",
    "\n"
   ]
  },
  {
   "cell_type": "code",
   "execution_count": 26,
   "metadata": {},
   "outputs": [],
   "source": [
    "\n",
    "rnn_model = Sequential()\n",
    "\n",
    "# create embedding layer - usually the first layer in text problems\n",
    "rnn_model.add(Embedding(input_dim     =  VOCABULARY_SIZE,         # vocabulary size - number of unique words in data\n",
    "                        output_dim    =  EMBEDDING_VECTOR_LENGTH,          # length of vector with which each word is represented\n",
    "                        input_length  =  MAX_SEQ_LENGTH,          # length of input sequence\n",
    "                        trainable     =  False                    # False - don't update the embeddings\n",
    "))\n",
    "\n",
    "# add an RNN layer which contains 64 RNN cells\n",
    "rnn_model.add(SimpleRNN(64, \n",
    "              return_sequences=True  # True - return whole sequence; False - return single output of the end of the sequence\n",
    "))\n",
    "\n",
    "# add time distributed (output at each sequence) layer\n",
    "rnn_model.add(TimeDistributed(Dense(OUTPUT_SIZE, activation='softmax')))"
   ]
  },
  {
   "cell_type": "code",
   "execution_count": 27,
   "metadata": {},
   "outputs": [],
   "source": [
    "def custom_loss(y_true, y_pred):\n",
    "    class_weights = class_weight.compute_class_weight('balanced',\n",
    "                                                list(tag2ind.values()),\n",
    "                                                 list(itertools.chain(*y_encoded)))\n",
    "    \n",
    "    cross_entropy = tf.reduce_mean(\n",
    "        tf.nn.weighted_cross_entropy_with_logits(\n",
    "            logits=y_pred, labels=y_true, pos_weight=class_weights))\n",
    "            \n",
    "        \n",
    "    return cross_entropy"
   ]
  },
  {
   "cell_type": "code",
   "execution_count": 37,
   "metadata": {},
   "outputs": [],
   "source": [
    "rnn_model.compile(loss      =  custom_loss,\n",
    "                  optimizer =  'adam',\n",
    "                 metrics=[tf.keras.metrics.CategoricalAccuracy()])"
   ]
  },
  {
   "cell_type": "code",
   "execution_count": 38,
   "metadata": {
    "scrolled": false
   },
   "outputs": [
    {
     "name": "stdout",
     "output_type": "stream",
     "text": [
      "Model: \"sequential\"\n",
      "_________________________________________________________________\n",
      "Layer (type)                 Output Shape              Param #   \n",
      "=================================================================\n",
      "embedding (Embedding)        (None, 104, 64)           2251456   \n",
      "_________________________________________________________________\n",
      "simple_rnn (SimpleRNN)       (None, 104, 64)           8256      \n",
      "_________________________________________________________________\n",
      "time_distributed (TimeDistri (None, 104, 17)           1105      \n",
      "=================================================================\n",
      "Total params: 2,260,817\n",
      "Trainable params: 9,361\n",
      "Non-trainable params: 2,251,456\n",
      "_________________________________________________________________\n"
     ]
    }
   ],
   "source": [
    "# check summary of the model\n",
    "rnn_model.summary()"
   ]
  },
  {
   "cell_type": "code",
   "execution_count": 39,
   "metadata": {},
   "outputs": [
    {
     "name": "stdout",
     "output_type": "stream",
     "text": [
      "Epoch 1/10\n",
      "210/210 [==============================] - 36s 171ms/step - loss: 0.6627 - categorical_accuracy: 0.9678 - val_loss: 0.6628 - val_categorical_accuracy: 0.9681\n",
      "Epoch 2/10\n",
      "210/210 [==============================] - 37s 177ms/step - loss: 0.6627 - categorical_accuracy: 0.9678 - val_loss: 0.6628 - val_categorical_accuracy: 0.9681\n",
      "Epoch 3/10\n",
      "210/210 [==============================] - 33s 159ms/step - loss: 0.6627 - categorical_accuracy: 0.9678 - val_loss: 0.6628 - val_categorical_accuracy: 0.9681\n",
      "Epoch 4/10\n",
      "210/210 [==============================] - 33s 158ms/step - loss: 0.6627 - categorical_accuracy: 0.9679 - val_loss: 0.6628 - val_categorical_accuracy: 0.9684\n",
      "Epoch 5/10\n",
      "210/210 [==============================] - 33s 159ms/step - loss: 0.6626 - categorical_accuracy: 0.9681 - val_loss: 0.6628 - val_categorical_accuracy: 0.9685\n",
      "Epoch 6/10\n",
      "210/210 [==============================] - 33s 159ms/step - loss: 0.6626 - categorical_accuracy: 0.9682 - val_loss: 0.6628 - val_categorical_accuracy: 0.9685\n",
      "Epoch 7/10\n",
      "210/210 [==============================] - 34s 161ms/step - loss: 0.6626 - categorical_accuracy: 0.9682 - val_loss: 0.6628 - val_categorical_accuracy: 0.9685\n",
      "Epoch 8/10\n",
      "210/210 [==============================] - 34s 163ms/step - loss: 0.6626 - categorical_accuracy: 0.9682 - val_loss: 0.6628 - val_categorical_accuracy: 0.9685\n",
      "Epoch 9/10\n",
      "210/210 [==============================] - 34s 162ms/step - loss: 0.6626 - categorical_accuracy: 0.9682 - val_loss: 0.6628 - val_categorical_accuracy: 0.9685\n",
      "Epoch 10/10\n",
      "210/210 [==============================] - 34s 163ms/step - loss: 0.6626 - categorical_accuracy: 0.9682 - val_loss: 0.6628 - val_categorical_accuracy: 0.9685\n"
     ]
    }
   ],
   "source": [
    "\n",
    "rnn_training = rnn_model.fit(X_train, y_train,validation_split=0.2, batch_size=128, epochs=10)"
   ]
  },
  {
   "cell_type": "code",
   "execution_count": 40,
   "metadata": {},
   "outputs": [
    {
     "data": {
      "image/png": "[encoded data removed]",
      "text/plain": [
       "<Figure size 432x288 with 1 Axes>"
      ]
     },
     "metadata": {},
     "output_type": "display_data"
    }
   ],
   "source": [
    "plt.plot(rnn_training.history['categorical_accuracy'])\n",
    "plt.plot(rnn_training.history['val_categorical_accuracy'])\n",
    "plt.title('model accuracy')\n",
    "plt.ylabel('accuracy')\n",
    "plt.xlabel('epoch')\n",
    "plt.legend(['train', 'test'], loc=\"lower right\")\n",
    "plt.show()"
   ]
  },
  {
   "cell_type": "code",
   "execution_count": 41,
   "metadata": {},
   "outputs": [],
   "source": [
    "pred=rnn_model.predict(X_test)\n",
    "\n",
    "# pred.shape\n",
    "\n",
    "\n"
   ]
  },
  {
   "cell_type": "code",
   "execution_count": 42,
   "metadata": {},
   "outputs": [],
   "source": [
    "# # pred[0][3].argmax(axis=-1)\n",
    "# # pred[225][0]\n",
    "\n",
    "# t=np.zeros(pred.shape,dtype=np.int)\n",
    "# for i , p in enumerate(pred):\n",
    "#     for j,s in enumerate(p):\n",
    "#         t[i][j][np.argmax(s)]=1\n",
    "        \n",
    "        "
   ]
  },
  {
   "cell_type": "code",
   "execution_count": 43,
   "metadata": {},
   "outputs": [
    {
     "data": {
      "text/plain": [
       "0.96801955"
      ]
     },
     "execution_count": 43,
     "metadata": {},
     "output_type": "execute_result"
    }
   ],
   "source": [
    "# print(classification_report(y_test, t,target_names=list(tag_tok.word_index.keys())))\n",
    "m = tf.keras.metrics.CategoricalAccuracy()\n",
    "m.update_state(y_test,pred)\n",
    "m.result().numpy()"
   ]
  },
  {
   "cell_type": "code",
   "execution_count": 44,
   "metadata": {},
   "outputs": [
    {
     "name": "stdout",
     "output_type": "stream",
     "text": [
      "450/450 [==============================] - 8s 17ms/step - loss: 0.6632 - categorical_accuracy: 0.9680\n"
     ]
    },
    {
     "data": {
      "text/plain": [
       "[0.6631669402122498, 0.9680195450782776]"
      ]
     },
     "execution_count": 44,
     "metadata": {},
     "output_type": "execute_result"
    }
   ],
   "source": [
    "rnn_model.evaluate(X_test,y_test)"
   ]
  },
  {
   "cell_type": "code",
   "execution_count": 45,
   "metadata": {},
   "outputs": [
    {
     "name": "stdout",
     "output_type": "stream",
     "text": [
      "              precision    recall  f1-score   support\n",
      "\n",
      "       B-art       0.00      0.00      0.00       125\n",
      "       B-eve       0.00      0.00      0.00        90\n",
      "       B-geo       0.00      0.00      0.00     11488\n",
      "       B-gpe       0.00      0.00      0.00      4787\n",
      "       B-nat       0.00      0.00      0.00        74\n",
      "       B-org       0.00      0.00      0.00      5896\n",
      "       B-per       0.83      0.12      0.21      5141\n",
      "       B-tim       0.00      0.00      0.00      6109\n",
      "       I-art       0.00      0.00      0.00        90\n",
      "       I-eve       0.00      0.00      0.00        79\n",
      "       I-geo       0.00      0.00      0.00      2236\n",
      "       I-gpe       0.00      0.00      0.00        63\n",
      "       I-nat       0.00      0.00      0.00        20\n",
      "       I-org       0.00      0.00      0.00      4988\n",
      "       I-per       0.00      0.00      0.00      5201\n",
      "       I-tim       0.00      0.00      0.00      2031\n",
      "           O       0.97      1.00      0.98   1447934\n",
      "\n",
      "    accuracy                           0.97   1496352\n",
      "   macro avg       0.11      0.07      0.07   1496352\n",
      "weighted avg       0.94      0.97      0.95   1496352\n",
      "\n"
     ]
    }
   ],
   "source": [
    "print(classification_report([ind2tag[np.argmax(i)] for rand in range(len(y_test)) for i in  y_test[rand]],[ind2tag[np.argmax(i)] for rand in range(len(y_test)) for i in  pred[rand]]))"
   ]
  },
  {
   "cell_type": "code",
   "execution_count": 46,
   "metadata": {},
   "outputs": [],
   "source": [
    "# test a seq"
   ]
  },
  {
   "cell_type": "code",
   "execution_count": 47,
   "metadata": {},
   "outputs": [
    {
     "name": "stdout",
     "output_type": "stream",
     "text": [
      "6168\n",
      "['President', 'Rakhmon', 'has', 'also', 'warned', 'of', 'potential', 'health', 'hazards', 'stemming', 'from', 'mobile', 'phone', 'use', '.', 'padd', 'padd', 'padd', 'padd', 'padd', 'padd', 'padd', 'padd', 'padd', 'padd', 'padd', 'padd', 'padd', 'padd', 'padd', 'padd', 'padd', 'padd', 'padd', 'padd', 'padd', 'padd', 'padd', 'padd', 'padd', 'padd', 'padd', 'padd', 'padd', 'padd', 'padd', 'padd', 'padd', 'padd', 'padd', 'padd', 'padd', 'padd', 'padd', 'padd', 'padd', 'padd', 'padd', 'padd', 'padd', 'padd', 'padd', 'padd', 'padd', 'padd', 'padd', 'padd', 'padd', 'padd', 'padd', 'padd', 'padd', 'padd', 'padd', 'padd', 'padd', 'padd', 'padd', 'padd', 'padd', 'padd', 'padd', 'padd', 'padd', 'padd', 'padd', 'padd', 'padd', 'padd', 'padd', 'padd', 'padd', 'padd', 'padd', 'padd', 'padd', 'padd', 'padd', 'padd', 'padd', 'padd', 'padd', 'padd', 'padd']\n",
      "['B-per', 'I-per', 'O', 'O', 'O', 'O', 'O', 'O', 'O', 'O', 'O', 'O', 'O', 'O', 'O', 'O', 'O', 'O', 'O', 'O', 'O', 'O', 'O', 'O', 'O', 'O', 'O', 'O', 'O', 'O', 'O', 'O', 'O', 'O', 'O', 'O', 'O', 'O', 'O', 'O', 'O', 'O', 'O', 'O', 'O', 'O', 'O', 'O', 'O', 'O', 'O', 'O', 'O', 'O', 'O', 'O', 'O', 'O', 'O', 'O', 'O', 'O', 'O', 'O', 'O', 'O', 'O', 'O', 'O', 'O', 'O', 'O', 'O', 'O', 'O', 'O', 'O', 'O', 'O', 'O', 'O', 'O', 'O', 'O', 'O', 'O', 'O', 'O', 'O', 'O', 'O', 'O', 'O', 'O', 'O', 'O', 'O', 'O', 'O', 'O', 'O', 'O', 'O', 'O']\n",
      "['B-per', 'O', 'O', 'O', 'O', 'O', 'O', 'O', 'O', 'O', 'O', 'O', 'O', 'O', 'O', 'O', 'O', 'O', 'O', 'O', 'O', 'O', 'O', 'O', 'O', 'O', 'O', 'O', 'O', 'O', 'O', 'O', 'O', 'O', 'O', 'O', 'O', 'O', 'O', 'O', 'O', 'O', 'O', 'O', 'O', 'O', 'O', 'O', 'O', 'O', 'O', 'O', 'O', 'O', 'O', 'O', 'O', 'O', 'O', 'O', 'O', 'O', 'O', 'O', 'O', 'O', 'O', 'O', 'O', 'O', 'O', 'O', 'O', 'O', 'O', 'O', 'O', 'O', 'O', 'O', 'O', 'O', 'O', 'O', 'O', 'O', 'O', 'O', 'O', 'O', 'O', 'O', 'O', 'O', 'O', 'O', 'O', 'O', 'O', 'O', 'O', 'O', 'O', 'O']\n"
     ]
    }
   ],
   "source": [
    "rand=np.random.randint(0,X_test.shape[0])\n",
    "print(rand)\n",
    "print([ind2word[i] if i !=len(words)-1 else 'padd' for i in  X_test[rand]])\n",
    "print([ind2tag[np.argmax(i)] for i in  y_test[rand]])\n",
    "print([ind2tag[np.argmax(i)] for i in  pred[rand]])"
   ]
  },
  {
   "cell_type": "code",
   "execution_count": 48,
   "metadata": {},
   "outputs": [
    {
     "data": {
      "text/plain": [
       "array([2.00262605e+02, 3.57549605e+00, 1.53435031e+02, 9.44866458e+00,\n",
       "       1.20942907e+03, 6.94676502e-02, 1.63853157e+00, 3.67498107e+00,\n",
       "       8.31951475e+00, 2.07679739e+02, 2.43797954e+02, 3.11519608e+02,\n",
       "       3.63042274e+00, 3.03353575e+00, 3.06214975e+00, 3.88663405e+00,\n",
       "       3.06870061e+02])"
      ]
     },
     "execution_count": 48,
     "metadata": {},
     "output_type": "execute_result"
    }
   ],
   "source": [
    "class_weight.compute_class_weight('balanced',\n",
    "                                                list(tag2ind.values()),\n",
    "                                                 list(itertools.chain(*y_encoded)))"
   ]
  },
  {
   "cell_type": "code",
   "execution_count": null,
   "metadata": {},
   "outputs": [],
   "source": []
  }
 ],
 "metadata": {
  "kernelspec": {
   "display_name": "Python 3",
   "language": "python",
   "name": "python3"
  },
  "language_info": {
   "codemirror_mode": {
    "name": "ipython",
    "version": 3
   },
   "file_extension": ".py",
   "mimetype": "text/x-python",
   "name": "python",
   "nbconvert_exporter": "python",
   "pygments_lexer": "ipython3",
   "version": "3.6.5"
  }
 },
 "nbformat": 4,
 "nbformat_minor": 2
}
